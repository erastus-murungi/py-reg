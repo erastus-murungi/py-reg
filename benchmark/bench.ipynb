{
 "cells": [
  {
   "cell_type": "code",
   "execution_count": 7,
   "metadata": {
    "collapsed": true
   },
   "outputs": [],
   "source": [
    "import re\n",
    "from pprint import pprint\n",
    "from time import monotonic\n",
    "from src.backtracking_matcher import RegexNFA\n",
    "from src.pike_vm import RegexPikeVM"
   ]
  },
  {
   "cell_type": "code",
   "execution_count": 8,
   "outputs": [],
   "source": [
    "with open(\"input-text.txt\", \"r\") as input_text:\n",
    "    text = input_text.read()[:200_000]"
   ],
   "metadata": {
    "collapsed": false
   }
  },
  {
   "cell_type": "code",
   "execution_count": 9,
   "outputs": [],
   "source": [
    "regexp = r\"[\\w\\.+-]+@[\\w\\.-]+\\.[\\w\\.-]+\""
   ],
   "metadata": {
    "collapsed": false
   }
  },
  {
   "cell_type": "code",
   "execution_count": 10,
   "outputs": [
    {
     "name": "stdout",
     "output_type": "stream",
     "text": [
      "['first.last@learnxinyminutes.com',\n",
      " 'john@go.com',\n",
      " 'jane@yo.com',\n",
      " 'beardy@pirate.com',\n",
      " 'chip@crunchy.com']\n",
      "re took 0.018654128012713045 seconds\n"
     ]
    }
   ],
   "source": [
    "start = monotonic()\n",
    "pprint(re.findall(regexp, text))\n",
    "print(f\"re took {monotonic() - start} seconds\")"
   ],
   "metadata": {
    "collapsed": false
   }
  },
  {
   "cell_type": "code",
   "execution_count": 11,
   "outputs": [
    {
     "name": "stdout",
     "output_type": "stream",
     "text": [
      "['first.last@learnxinyminutes.com',\n",
      " 'john@go.com',\n",
      " 'jane@yo.com',\n",
      " 'beardy@pirate.com',\n",
      " 'chip@crunchy.com']\n",
      "RegexPikeVM took 10.805812745005824 seconds\n"
     ]
    }
   ],
   "source": [
    "start = monotonic()\n",
    "pattern_nfa = RegexPikeVM(regexp)\n",
    "pprint(pattern_nfa.findall(text))\n",
    "print(f\"RegexPikeVM took {monotonic() - start} seconds\")"
   ],
   "metadata": {
    "collapsed": false
   }
  },
  {
   "cell_type": "code",
   "execution_count": 12,
   "outputs": [
    {
     "name": "stdout",
     "output_type": "stream",
     "text": [
      "['first.last@learnxinyminutes.com',\n",
      " 'john@go.com',\n",
      " 'jane@yo.com',\n",
      " 'beardy@pirate.com',\n",
      " 'chip@crunchy.com']\n",
      "RegexNFA took 14.137319222005317 seconds\n"
     ]
    }
   ],
   "source": [
    "start = monotonic()\n",
    "pattern_nfa = RegexNFA(regexp)\n",
    "pprint(pattern_nfa.findall(text))\n",
    "print(f\"RegexNFA took {monotonic() - start} seconds\")"
   ],
   "metadata": {
    "collapsed": false
   }
  },
  {
   "cell_type": "code",
   "execution_count": 6,
   "outputs": [],
   "source": [],
   "metadata": {
    "collapsed": false
   }
  }
 ],
 "metadata": {
  "kernelspec": {
   "display_name": "Python 3",
   "language": "python",
   "name": "python3"
  },
  "language_info": {
   "codemirror_mode": {
    "name": "ipython",
    "version": 2
   },
   "file_extension": ".py",
   "mimetype": "text/x-python",
   "name": "python",
   "nbconvert_exporter": "python",
   "pygments_lexer": "ipython2",
   "version": "2.7.6"
  }
 },
 "nbformat": 4,
 "nbformat_minor": 0
}
