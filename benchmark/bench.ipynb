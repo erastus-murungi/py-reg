{
 "cells": [
  {
   "cell_type": "code",
   "execution_count": 1,
   "metadata": {
    "collapsed": true
   },
   "outputs": [],
   "source": [
    "import re\n",
    "from pprint import pprint\n",
    "from time import monotonic\n",
    "from reg.pike_vm import RegexPikeVM\n",
    "from reg.fsm import NFA\n",
    "from reg.utils import RegexFlag"
   ]
  },
  {
   "cell_type": "code",
   "execution_count": 2,
   "outputs": [],
   "source": [
    "with open(\"input-text.txt\", \"r\") as input_text:\n",
    "    text = input_text.read()[:200_000]"
   ],
   "metadata": {
    "collapsed": false
   }
  },
  {
   "cell_type": "code",
   "execution_count": 3,
   "outputs": [],
   "source": [
    "regexp = r\"[\\w\\.-]+@([\\w-]+\\.)+[\\w-]{2,4}\""
   ],
   "metadata": {
    "collapsed": false
   }
  },
  {
   "cell_type": "code",
   "execution_count": 10,
   "outputs": [
    {
     "name": "stdout",
     "output_type": "stream",
     "text": [
      "re took 0.017616002005524933 seconds\n"
     ]
    }
   ],
   "source": [
    "start = monotonic()\n",
    "re.findall(regexp, text)\n",
    "print(f\"re took {monotonic() - start} seconds\")"
   ],
   "metadata": {
    "collapsed": false
   }
  },
  {
   "cell_type": "code",
   "execution_count": 11,
   "outputs": [
    {
     "name": "stdout",
     "output_type": "stream",
     "text": [
      "['first.last@learnxinyminutes.com',\n",
      " 'john@go.com',\n",
      " 'jane@yo.com',\n",
      " 'beardy@pirate.com',\n",
      " 'chip@crunchy.com']\n",
      "RegexPikeVM took 17.24285936699016 seconds\n"
     ]
    }
   ],
   "source": [
    "start = monotonic()\n",
    "pattern_nfa = RegexPikeVM(regexp)\n",
    "pprint(pattern_nfa.findall(text))\n",
    "print(f\"RegexPikeVM took {monotonic() - start} seconds\")"
   ],
   "metadata": {
    "collapsed": false
   }
  },
  {
   "cell_type": "code",
   "execution_count": 12,
   "outputs": [
    {
     "name": "stdout",
     "output_type": "stream",
     "text": [
      "['first.last@learnxinyminutes.com',\n",
      " 'john@go.com',\n",
      " 'jane@yo.com',\n",
      " 'beardy@pirate.com',\n",
      " 'chip@crunchy.com']\n",
      "RegexNFA took 14.016524547012523 seconds\n"
     ]
    }
   ],
   "source": [
    "start = monotonic()\n",
    "pattern_nfa = NFA(regexp)\n",
    "pprint(pattern_nfa.findall(text))\n",
    "print(f\"RegexNFA took {monotonic() - start} seconds\")"
   ],
   "metadata": {
    "collapsed": false
   }
  },
  {
   "cell_type": "code",
   "execution_count": 13,
   "outputs": [
    {
     "name": "stdout",
     "output_type": "stream",
     "text": [
      "['first.last@learnxinyminutes.com',\n",
      " 'john@go.com',\n",
      " 'jane@yo.com',\n",
      " 'beardy@pirate.com',\n",
      " 'chip@crunchy.com']\n",
      "RegexNFA no backtrack took 16.576980449986877 seconds\n"
     ]
    }
   ],
   "source": [
    "start = monotonic()\n",
    "pattern_nfa = NFA(regexp, RegexFlag.NO_BACKTRACK | RegexFlag.OPTIMIZE)\n",
    "pprint(pattern_nfa.findall(text))\n",
    "print(f\"RegexNFA no backtrack took {monotonic() - start} seconds\")"
   ],
   "metadata": {
    "collapsed": false
   }
  },
  {
   "cell_type": "code",
   "execution_count": 14,
   "outputs": [
    {
     "name": "stdout",
     "output_type": "stream",
     "text": [
      "['first.last@learnxinyminutes.com',\n",
      " 'john@go.com',\n",
      " 'jane@yo.com',\n",
      " 'beardy@pirate.com',\n",
      " 'chip@crunchy.com']\n",
      "DFA took 12.012914780993015 seconds\n",
      "['first.last@learnxinyminutes.com',\n",
      " 'john@go.com',\n",
      " 'jane@yo.com',\n",
      " 'beardy@pirate.com',\n",
      " 'chip@crunchy.com']\n",
      "DFA took 10.985105753003154 seconds\n"
     ]
    }
   ],
   "source": [],
   "metadata": {
    "collapsed": false
   }
  }
 ],
 "metadata": {
  "kernelspec": {
   "display_name": "Python 3",
   "language": "python",
   "name": "python3"
  },
  "language_info": {
   "codemirror_mode": {
    "name": "ipython",
    "version": 2
   },
   "file_extension": ".py",
   "mimetype": "text/x-python",
   "name": "python",
   "nbconvert_exporter": "python",
   "pygments_lexer": "ipython2",
   "version": "2.7.6"
  }
 },
 "nbformat": 4,
 "nbformat_minor": 0
}
