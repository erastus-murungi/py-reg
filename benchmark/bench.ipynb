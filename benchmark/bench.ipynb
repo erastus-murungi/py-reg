{
 "cells": [
  {
   "cell_type": "code",
   "execution_count": 17,
   "metadata": {
    "collapsed": true
   },
   "outputs": [],
   "source": [
    "import re\n",
    "from pprint import pprint\n",
    "from time import monotonic\n",
    "from reg.pike_vm import RegexPikeVM\n",
    "from reg.fsm import NFA\n",
    "from reg.utils import RegexFlag"
   ]
  },
  {
   "cell_type": "code",
   "execution_count": 18,
   "outputs": [],
   "source": [
    "with open(\"input-text.txt\", \"r\") as input_text:\n",
    "    text = input_text.read()[:200_000]"
   ],
   "metadata": {
    "collapsed": false
   }
  },
  {
   "cell_type": "code",
   "execution_count": 19,
   "outputs": [],
   "source": [
    "regexp = r\"[\\w\\.-]+@([\\w-]+\\.)+[\\w-]{2,4}\""
   ],
   "metadata": {
    "collapsed": false
   }
  },
  {
   "cell_type": "code",
   "execution_count": 20,
   "outputs": [
    {
     "name": "stdout",
     "output_type": "stream",
     "text": [
      "re took 0.019890991010470316 seconds\n"
     ]
    }
   ],
   "source": [
    "start = monotonic()\n",
    "re.findall(regexp, text)\n",
    "print(f\"re took {monotonic() - start} seconds\")"
   ],
   "metadata": {
    "collapsed": false
   }
  },
  {
   "cell_type": "code",
   "execution_count": 21,
   "outputs": [
    {
     "name": "stdout",
     "output_type": "stream",
     "text": [
      "['first.last@learnxinyminutes.com',\n",
      " 'john@go.com',\n",
      " 'jane@yo.com',\n",
      " 'beardy@pirate.com',\n",
      " 'chip@crunchy.com']\n",
      "RegexPikeVM took 20.710395981004694 seconds\n"
     ]
    }
   ],
   "source": [
    "start = monotonic()\n",
    "pattern_nfa = RegexPikeVM(regexp)\n",
    "pprint(pattern_nfa.findall(text))\n",
    "print(f\"RegexPikeVM took {monotonic() - start} seconds\")"
   ],
   "metadata": {
    "collapsed": false
   }
  },
  {
   "cell_type": "code",
   "execution_count": 22,
   "outputs": [
    {
     "name": "stdout",
     "output_type": "stream",
     "text": [
      "['first.last@learnxinyminutes.com',\n",
      " 'john@go.com',\n",
      " 'jane@yo.com',\n",
      " 'beardy@pirate.com',\n",
      " 'chip@crunchy.com']\n",
      "RegexNFA took 16.32051878501079 seconds\n"
     ]
    }
   ],
   "source": [
    "start = monotonic()\n",
    "pattern_nfa = NFA(regexp)\n",
    "pprint(pattern_nfa.findall(text))\n",
    "print(f\"RegexNFA took {monotonic() - start} seconds\")"
   ],
   "metadata": {
    "collapsed": false
   }
  },
  {
   "cell_type": "code",
   "execution_count": 23,
   "outputs": [
    {
     "name": "stdout",
     "output_type": "stream",
     "text": [
      "['first.last@learnxinyminutes.com',\n",
      " 'john@go.com',\n",
      " 'jane@yo.com',\n",
      " 'beardy@pirate.com',\n",
      " 'chip@crunchy.com']\n",
      "RegexNFA no backtrack took 17.29154149600072 seconds\n"
     ]
    }
   ],
   "source": [
    "start = monotonic()\n",
    "pattern_nfa = NFA(regexp, RegexFlag.NO_BACKTRACK | RegexFlag.OPTIMIZE)\n",
    "pprint(pattern_nfa.findall(text))\n",
    "print(f\"RegexNFA no backtrack took {monotonic() - start} seconds\")"
   ],
   "metadata": {
    "collapsed": false
   }
  },
  {
   "cell_type": "code",
   "execution_count": null,
   "outputs": [],
   "source": [],
   "metadata": {
    "collapsed": false
   }
  }
 ],
 "metadata": {
  "kernelspec": {
   "display_name": "Python 3",
   "language": "python",
   "name": "python3"
  },
  "language_info": {
   "codemirror_mode": {
    "name": "ipython",
    "version": 2
   },
   "file_extension": ".py",
   "mimetype": "text/x-python",
   "name": "python",
   "nbconvert_exporter": "python",
   "pygments_lexer": "ipython2",
   "version": "2.7.6"
  }
 },
 "nbformat": 4,
 "nbformat_minor": 0
}
